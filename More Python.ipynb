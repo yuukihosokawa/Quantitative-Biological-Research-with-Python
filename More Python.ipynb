{
 "cells": [
  {
   "cell_type": "markdown",
   "metadata": {},
   "source": [
    "# Functions"
   ]
  },
  {
   "cell_type": "code",
   "execution_count": 7,
   "metadata": {},
   "outputs": [
    {
     "name": "stdout",
     "output_type": "stream",
     "text": [
      "G\n",
      "C\n",
      "A\n",
      "C\n",
      "A\n"
     ]
    }
   ],
   "source": [
    "import random\n",
    "\n",
    "def some_func():\n",
    "    print(random.choice(['A', 'C', 'G', 'T']))\n",
    "    \n",
    "for _ in range(5):\n",
    "    some_func()"
   ]
  },
  {
   "cell_type": "code",
   "execution_count": 8,
   "metadata": {},
   "outputs": [
    {
     "name": "stdout",
     "output_type": "stream",
     "text": [
      "30.25\n"
     ]
    }
   ],
   "source": [
    "def f(a):\n",
    "    return a ** 2\n",
    "    \n",
    "b = f(5.5)\n",
    "print(b)"
   ]
  },
  {
   "cell_type": "code",
   "execution_count": 9,
   "metadata": {},
   "outputs": [
    {
     "name": "stdout",
     "output_type": "stream",
     "text": [
      "5.0\n",
      "13.0\n"
     ]
    }
   ],
   "source": [
    "def func(arg1, arg2):\n",
    "    return (arg1 + 2 * arg2) / 3\n",
    "    \n",
    "print(func(3, 6))\n",
    "print(func(13, 13))"
   ]
  },
  {
   "cell_type": "code",
   "execution_count": 10,
   "metadata": {},
   "outputs": [
    {
     "name": "stdout",
     "output_type": "stream",
     "text": [
      "1.6666666666666667\n",
      "1.6666666666666667\n"
     ]
    }
   ],
   "source": [
    "# Providing argument values by position vs. by keyword\n",
    "print(func(1, arg2 = 2))\n",
    "print(func(arg2 = 2, arg1 = 1))"
   ]
  },
  {
   "cell_type": "code",
   "execution_count": 11,
   "metadata": {},
   "outputs": [
    {
     "ename": "SyntaxError",
     "evalue": "positional argument follows keyword argument (<ipython-input-11-0d9bfbe785b6>, line 1)",
     "output_type": "error",
     "traceback": [
      "\u001b[1;36m  File \u001b[1;32m\"<ipython-input-11-0d9bfbe785b6>\"\u001b[1;36m, line \u001b[1;32m1\u001b[0m\n\u001b[1;33m    print(func(arg1 = 13, 13))\u001b[0m\n\u001b[1;37m                         ^\u001b[0m\n\u001b[1;31mSyntaxError\u001b[0m\u001b[1;31m:\u001b[0m positional argument follows keyword argument\n"
     ]
    }
   ],
   "source": [
    "print(func(arg1 = 13, 13))"
   ]
  },
  {
   "cell_type": "code",
   "execution_count": 12,
   "metadata": {},
   "outputs": [
    {
     "name": "stdout",
     "output_type": "stream",
     "text": [
      "foofoo\n",
      "foofoo\n",
      "foofoo\n",
      "foofoofoofoofoo\n"
     ]
    }
   ],
   "source": [
    "# Default value\n",
    "\n",
    "def duplicate(string, number = 2):\n",
    "    return string * number\n",
    "    \n",
    "print(duplicate('foo'))\n",
    "print(duplicate('foo', 2))\n",
    "print(duplicate('foo', number = 2))\n",
    "print(duplicate('foo', 5))"
   ]
  },
  {
   "cell_type": "code",
   "execution_count": 13,
   "metadata": {},
   "outputs": [
    {
     "ename": "SyntaxError",
     "evalue": "non-default argument follows default argument (<ipython-input-13-0aa4fd032ef8>, line 1)",
     "output_type": "error",
     "traceback": [
      "\u001b[1;36m  File \u001b[1;32m\"<ipython-input-13-0aa4fd032ef8>\"\u001b[1;36m, line \u001b[1;32m1\u001b[0m\n\u001b[1;33m    def g(a, b = 2, c):\u001b[0m\n\u001b[1;37m         ^\u001b[0m\n\u001b[1;31mSyntaxError\u001b[0m\u001b[1;31m:\u001b[0m non-default argument follows default argument\n"
     ]
    }
   ],
   "source": [
    "def g(a, b = 2, c):\n",
    "    return a + b + c"
   ]
  },
  {
   "cell_type": "code",
   "execution_count": 14,
   "metadata": {},
   "outputs": [
    {
     "name": "stdout",
     "output_type": "stream",
     "text": [
      "2\n",
      "None\n"
     ]
    }
   ],
   "source": [
    "# It's better to explicitly return None, but this would work as well...\n",
    "\n",
    "def calc(x, y):\n",
    "    if x > y:\n",
    "        return x - y\n",
    "        \n",
    "print(calc(5, 3))\n",
    "print(calc(3, 5))"
   ]
  },
  {
   "cell_type": "code",
   "execution_count": 15,
   "metadata": {},
   "outputs": [
    {
     "name": "stdout",
     "output_type": "stream",
     "text": [
      "2\n",
      "<class 'function'>\n"
     ]
    }
   ],
   "source": [
    "# Like everything else, functions are objects\n",
    "f = calc\n",
    "print(f(5, 3))\n",
    "print(type(f))"
   ]
  },
  {
   "cell_type": "code",
   "execution_count": 16,
   "metadata": {},
   "outputs": [
    {
     "name": "stdout",
     "output_type": "stream",
     "text": [
      "AUUCGA\n",
      "TTTAGT\n"
     ]
    }
   ],
   "source": [
    "# Functions can also be arguments of other functions\n",
    "\n",
    "def convert_seq(seq, convert_letter_function):\n",
    "\n",
    "    converted_seq = []\n",
    "    \n",
    "    for letter in seq:\n",
    "        converted_seq.append(convert_letter_function(letter))\n",
    "\n",
    "    return ''.join(converted_seq)\n",
    "    \n",
    "def dna_nt_to_rna_nt(nt):\n",
    "    if nt == 'T':\n",
    "        return 'U'\n",
    "    else:\n",
    "        return nt\n",
    "    \n",
    "def rna_nt_to_dna_nt(nt):\n",
    "    if nt == 'U':\n",
    "        return 'T'\n",
    "    else:\n",
    "        return nt\n",
    "    \n",
    "print(convert_seq('ATTCGA', dna_nt_to_rna_nt))\n",
    "print(convert_seq('UUUAGU', rna_nt_to_dna_nt))"
   ]
  },
  {
   "cell_type": "code",
   "execution_count": 17,
   "metadata": {},
   "outputs": [
    {
     "name": "stdout",
     "output_type": "stream",
     "text": [
      "AAAGAGAGAAUGUUGC\n"
     ]
    }
   ],
   "source": [
    "# Can have functions within functions\n",
    "\n",
    "def dna_to_rna(dna_seq):\n",
    "\n",
    "    def convert_nt(nt):\n",
    "        if nt == 'T':\n",
    "            return 'U'\n",
    "        else:\n",
    "            return nt\n",
    "            \n",
    "    rna_seq = ''\n",
    "            \n",
    "    for nt in dna_seq:\n",
    "        rna_seq += convert_nt(nt)\n",
    "        \n",
    "    return rna_seq\n",
    "    \n",
    "print(dna_to_rna('AAAGAGAGAATGTTGC'))"
   ]
  },
  {
   "cell_type": "code",
   "execution_count": 18,
   "metadata": {},
   "outputs": [
    {
     "name": "stdout",
     "output_type": "stream",
     "text": [
      "4\n",
      "5\n"
     ]
    }
   ],
   "source": [
    "# Global vs. local variables\n",
    "\n",
    "x = 5\n",
    "\n",
    "def f():\n",
    "    x = 3\n",
    "    return x + 1\n",
    "    \n",
    "print(f())\n",
    "print(x)"
   ]
  },
  {
   "cell_type": "code",
   "execution_count": 26,
   "metadata": {},
   "outputs": [
    {
     "ename": "SyntaxError",
     "evalue": "invalid syntax (<ipython-input-26-270dc1698367>, line 2)",
     "output_type": "error",
     "traceback": [
      "\u001b[1;36m  File \u001b[1;32m\"<ipython-input-26-270dc1698367>\"\u001b[1;36m, line \u001b[1;32m2\u001b[0m\n\u001b[1;33m    global  var1, var2 = 5, 6\u001b[0m\n\u001b[1;37m                       ^\u001b[0m\n\u001b[1;31mSyntaxError\u001b[0m\u001b[1;31m:\u001b[0m invalid syntax\n"
     ]
    }
   ],
   "source": []
  },
  {
   "cell_type": "code",
   "execution_count": 28,
   "metadata": {},
   "outputs": [
    {
     "name": "stdout",
     "output_type": "stream",
     "text": [
      "17\n"
     ]
    }
   ],
   "source": [
    "def f2():\n",
    "    global var1, var2\n",
    "    var1 += var2\n",
    "    \n",
    "f2()\n",
    "print(var1)"
   ]
  },
  {
   "cell_type": "code",
   "execution_count": 31,
   "metadata": {},
   "outputs": [
    {
     "name": "stdout",
     "output_type": "stream",
     "text": [
      "[]\n",
      "[5]\n",
      "[5, 6]\n"
     ]
    }
   ],
   "source": [
    "# 'global' is required only when changing the actual variable\n",
    "\n",
    "x = []\n",
    "\n",
    "def f1():\n",
    "    x.append(5)\n",
    "    \n",
    "def f2():\n",
    "    global x\n",
    "    x += [6]\n",
    "    \n",
    "print(x)\n",
    "f1()\n",
    "print(x)\n",
    "f2()\n",
    "print(x)"
   ]
  },
  {
   "cell_type": "markdown",
   "metadata": {},
   "source": [
    "# Builtin functions"
   ]
  },
  {
   "cell_type": "code",
   "execution_count": 32,
   "metadata": {},
   "outputs": [
    {
     "name": "stdout",
     "output_type": "stream",
     "text": [
      "10\n",
      "6\n",
      "1\n",
      "5\n"
     ]
    }
   ],
   "source": [
    "print(sum(range(5)))\n",
    "print(max([1, 5, 6, 2]))\n",
    "print(min(1, 5, 6, 2))\n",
    "print(abs(-5))"
   ]
  },
  {
   "cell_type": "code",
   "execution_count": 34,
   "metadata": {},
   "outputs": [
    {
     "ename": "TypeError",
     "evalue": "count() takes at least 1 argument (0 given)",
     "output_type": "error",
     "traceback": [
      "\u001b[1;31m---------------------------------------------------------------------------\u001b[0m",
      "\u001b[1;31mTypeError\u001b[0m                                 Traceback (most recent call last)",
      "\u001b[1;32m<ipython-input-34-9e531bd3b412>\u001b[0m in \u001b[0;36m<module>\u001b[1;34m\u001b[0m\n\u001b[0;32m      1\u001b[0m \u001b[0ms\u001b[0m \u001b[1;33m=\u001b[0m \u001b[1;34m'string'\u001b[0m\u001b[1;33m\u001b[0m\u001b[1;33m\u001b[0m\u001b[0m\n\u001b[0;32m      2\u001b[0m \u001b[0mdir\u001b[0m\u001b[1;33m(\u001b[0m\u001b[0ms\u001b[0m\u001b[1;33m)\u001b[0m\u001b[1;33m\u001b[0m\u001b[1;33m\u001b[0m\u001b[0m\n\u001b[1;32m----> 3\u001b[1;33m \u001b[0ms\u001b[0m\u001b[1;33m.\u001b[0m\u001b[0mcount\u001b[0m\u001b[1;33m(\u001b[0m\u001b[1;33m)\u001b[0m\u001b[1;33m\u001b[0m\u001b[1;33m\u001b[0m\u001b[0m\n\u001b[0m",
      "\u001b[1;31mTypeError\u001b[0m: count() takes at least 1 argument (0 given)"
     ]
    }
   ],
   "source": [
    "s = 'string'\n",
    "dir(s)\n"
   ]
  },
  {
   "cell_type": "code",
   "execution_count": 35,
   "metadata": {},
   "outputs": [
    {
     "data": {
      "text/plain": [
       "['In',\n",
       " 'Out',\n",
       " '_',\n",
       " '_33',\n",
       " '__',\n",
       " '___',\n",
       " '__builtin__',\n",
       " '__builtins__',\n",
       " '__doc__',\n",
       " '__loader__',\n",
       " '__name__',\n",
       " '__package__',\n",
       " '__spec__',\n",
       " '_dh',\n",
       " '_i',\n",
       " '_i1',\n",
       " '_i10',\n",
       " '_i11',\n",
       " '_i12',\n",
       " '_i13',\n",
       " '_i14',\n",
       " '_i15',\n",
       " '_i16',\n",
       " '_i17',\n",
       " '_i18',\n",
       " '_i19',\n",
       " '_i2',\n",
       " '_i20',\n",
       " '_i21',\n",
       " '_i22',\n",
       " '_i23',\n",
       " '_i24',\n",
       " '_i25',\n",
       " '_i26',\n",
       " '_i27',\n",
       " '_i28',\n",
       " '_i29',\n",
       " '_i3',\n",
       " '_i30',\n",
       " '_i31',\n",
       " '_i32',\n",
       " '_i33',\n",
       " '_i34',\n",
       " '_i35',\n",
       " '_i4',\n",
       " '_i5',\n",
       " '_i6',\n",
       " '_i7',\n",
       " '_i8',\n",
       " '_i9',\n",
       " '_ih',\n",
       " '_ii',\n",
       " '_iii',\n",
       " '_oh',\n",
       " 'b',\n",
       " 'calc',\n",
       " 'convert_seq',\n",
       " 'dna_nt_to_rna_nt',\n",
       " 'dna_to_rna',\n",
       " 'duplicate',\n",
       " 'exit',\n",
       " 'f',\n",
       " 'f1',\n",
       " 'f2',\n",
       " 'func',\n",
       " 'get_ipython',\n",
       " 'quit',\n",
       " 'random',\n",
       " 'rna_nt_to_dna_nt',\n",
       " 's',\n",
       " 'some_func',\n",
       " 'var1',\n",
       " 'var2',\n",
       " 'x']"
      ]
     },
     "execution_count": 35,
     "metadata": {},
     "output_type": "execute_result"
    }
   ],
   "source": [
    "dir()"
   ]
  },
  {
   "cell_type": "code",
   "execution_count": 36,
   "metadata": {},
   "outputs": [
    {
     "data": {
      "text/plain": [
       "['ArithmeticError',\n",
       " 'AssertionError',\n",
       " 'AttributeError',\n",
       " 'BaseException',\n",
       " 'BlockingIOError',\n",
       " 'BrokenPipeError',\n",
       " 'BufferError',\n",
       " 'BytesWarning',\n",
       " 'ChildProcessError',\n",
       " 'ConnectionAbortedError',\n",
       " 'ConnectionError',\n",
       " 'ConnectionRefusedError',\n",
       " 'ConnectionResetError',\n",
       " 'DeprecationWarning',\n",
       " 'EOFError',\n",
       " 'Ellipsis',\n",
       " 'EnvironmentError',\n",
       " 'Exception',\n",
       " 'False',\n",
       " 'FileExistsError',\n",
       " 'FileNotFoundError',\n",
       " 'FloatingPointError',\n",
       " 'FutureWarning',\n",
       " 'GeneratorExit',\n",
       " 'IOError',\n",
       " 'ImportError',\n",
       " 'ImportWarning',\n",
       " 'IndentationError',\n",
       " 'IndexError',\n",
       " 'InterruptedError',\n",
       " 'IsADirectoryError',\n",
       " 'KeyError',\n",
       " 'KeyboardInterrupt',\n",
       " 'LookupError',\n",
       " 'MemoryError',\n",
       " 'ModuleNotFoundError',\n",
       " 'NameError',\n",
       " 'None',\n",
       " 'NotADirectoryError',\n",
       " 'NotImplemented',\n",
       " 'NotImplementedError',\n",
       " 'OSError',\n",
       " 'OverflowError',\n",
       " 'PendingDeprecationWarning',\n",
       " 'PermissionError',\n",
       " 'ProcessLookupError',\n",
       " 'RecursionError',\n",
       " 'ReferenceError',\n",
       " 'ResourceWarning',\n",
       " 'RuntimeError',\n",
       " 'RuntimeWarning',\n",
       " 'StopAsyncIteration',\n",
       " 'StopIteration',\n",
       " 'SyntaxError',\n",
       " 'SyntaxWarning',\n",
       " 'SystemError',\n",
       " 'SystemExit',\n",
       " 'TabError',\n",
       " 'TimeoutError',\n",
       " 'True',\n",
       " 'TypeError',\n",
       " 'UnboundLocalError',\n",
       " 'UnicodeDecodeError',\n",
       " 'UnicodeEncodeError',\n",
       " 'UnicodeError',\n",
       " 'UnicodeTranslateError',\n",
       " 'UnicodeWarning',\n",
       " 'UserWarning',\n",
       " 'ValueError',\n",
       " 'Warning',\n",
       " 'WindowsError',\n",
       " 'ZeroDivisionError',\n",
       " '__IPYTHON__',\n",
       " '__build_class__',\n",
       " '__debug__',\n",
       " '__doc__',\n",
       " '__import__',\n",
       " '__loader__',\n",
       " '__name__',\n",
       " '__package__',\n",
       " '__spec__',\n",
       " 'abs',\n",
       " 'all',\n",
       " 'any',\n",
       " 'ascii',\n",
       " 'bin',\n",
       " 'bool',\n",
       " 'breakpoint',\n",
       " 'bytearray',\n",
       " 'bytes',\n",
       " 'callable',\n",
       " 'chr',\n",
       " 'classmethod',\n",
       " 'compile',\n",
       " 'complex',\n",
       " 'copyright',\n",
       " 'credits',\n",
       " 'delattr',\n",
       " 'dict',\n",
       " 'dir',\n",
       " 'display',\n",
       " 'divmod',\n",
       " 'enumerate',\n",
       " 'eval',\n",
       " 'exec',\n",
       " 'filter',\n",
       " 'float',\n",
       " 'format',\n",
       " 'frozenset',\n",
       " 'get_ipython',\n",
       " 'getattr',\n",
       " 'globals',\n",
       " 'hasattr',\n",
       " 'hash',\n",
       " 'help',\n",
       " 'hex',\n",
       " 'id',\n",
       " 'input',\n",
       " 'int',\n",
       " 'isinstance',\n",
       " 'issubclass',\n",
       " 'iter',\n",
       " 'len',\n",
       " 'license',\n",
       " 'list',\n",
       " 'locals',\n",
       " 'map',\n",
       " 'max',\n",
       " 'memoryview',\n",
       " 'min',\n",
       " 'next',\n",
       " 'object',\n",
       " 'oct',\n",
       " 'open',\n",
       " 'ord',\n",
       " 'pow',\n",
       " 'print',\n",
       " 'property',\n",
       " 'range',\n",
       " 'repr',\n",
       " 'reversed',\n",
       " 'round',\n",
       " 'set',\n",
       " 'setattr',\n",
       " 'slice',\n",
       " 'sorted',\n",
       " 'staticmethod',\n",
       " 'str',\n",
       " 'sum',\n",
       " 'super',\n",
       " 'tuple',\n",
       " 'type',\n",
       " 'vars',\n",
       " 'zip']"
      ]
     },
     "execution_count": 36,
     "metadata": {},
     "output_type": "execute_result"
    }
   ],
   "source": [
    "dir(__builtin__)"
   ]
  },
  {
   "cell_type": "code",
   "execution_count": 37,
   "metadata": {},
   "outputs": [
    {
     "name": "stdout",
     "output_type": "stream",
     "text": [
      "ConnectionResetError\n",
      "frozenset\n",
      "set\n",
      "setattr\n"
     ]
    }
   ],
   "source": [
    "for s in dir(__builtin__):\n",
    "    if 'set' in s.lower():\n",
    "        print(s)"
   ]
  },
  {
   "cell_type": "code",
   "execution_count": 38,
   "metadata": {},
   "outputs": [
    {
     "name": "stdout",
     "output_type": "stream",
     "text": [
      "Help on class reversed in module builtins:\n",
      "\n",
      "class reversed(object)\n",
      " |  reversed(sequence, /)\n",
      " |  \n",
      " |  Return a reverse iterator over the values of the given sequence.\n",
      " |  \n",
      " |  Methods defined here:\n",
      " |  \n",
      " |  __getattribute__(self, name, /)\n",
      " |      Return getattr(self, name).\n",
      " |  \n",
      " |  __iter__(self, /)\n",
      " |      Implement iter(self).\n",
      " |  \n",
      " |  __length_hint__(...)\n",
      " |      Private method returning an estimate of len(list(it)).\n",
      " |  \n",
      " |  __next__(self, /)\n",
      " |      Implement next(self).\n",
      " |  \n",
      " |  __reduce__(...)\n",
      " |      Return state information for pickling.\n",
      " |  \n",
      " |  __setstate__(...)\n",
      " |      Set state information for unpickling.\n",
      " |  \n",
      " |  ----------------------------------------------------------------------\n",
      " |  Static methods defined here:\n",
      " |  \n",
      " |  __new__(*args, **kwargs) from builtins.type\n",
      " |      Create and return a new object.  See help(type) for accurate signature.\n",
      "\n"
     ]
    }
   ],
   "source": [
    "help(reversed)"
   ]
  },
  {
   "cell_type": "code",
   "execution_count": 39,
   "metadata": {},
   "outputs": [],
   "source": [
    "sum?"
   ]
  },
  {
   "cell_type": "code",
   "execution_count": 40,
   "metadata": {},
   "outputs": [],
   "source": [
    "str.lower?"
   ]
  },
  {
   "cell_type": "markdown",
   "metadata": {},
   "source": [
    "# Modules"
   ]
  },
  {
   "cell_type": "code",
   "execution_count": 6,
   "metadata": {},
   "outputs": [
    {
     "name": "stdout",
     "output_type": "stream",
     "text": [
      "0.5325282430398771\n"
     ]
    }
   ],
   "source": [
    "import random\n",
    "print(random.random())"
   ]
  },
  {
   "cell_type": "code",
   "execution_count": 7,
   "metadata": {},
   "outputs": [
    {
     "name": "stdout",
     "output_type": "stream",
     "text": [
      "0.863205634776821\n",
      "0.5357780093710732\n"
     ]
    }
   ],
   "source": [
    "rrr1 = random\n",
    "print(rrr1.random())\n",
    "\n",
    "import random as rrr2\n",
    "print(rrr2.random())"
   ]
  },
  {
   "cell_type": "code",
   "execution_count": 8,
   "metadata": {},
   "outputs": [
    {
     "name": "stdout",
     "output_type": "stream",
     "text": [
      "3\n",
      "a\n",
      "0.6004850898366747\n"
     ]
    }
   ],
   "source": [
    "from random import randint\n",
    "print(randint(0, 10))\n",
    "\n",
    "from random import randint, choice as c\n",
    "print(c('acde'))\n",
    "\n",
    "from random import * # Not recommended!\n",
    "print(random())"
   ]
  },
  {
   "cell_type": "code",
   "execution_count": 9,
   "metadata": {},
   "outputs": [
    {
     "name": "stdout",
     "output_type": "stream",
     "text": [
      "3.7.6 (default, Jan  8 2020, 20:23:39) [MSC v.1916 64 bit (AMD64)]\n",
      "********************\n",
      "['C:\\\\Users\\\\yuuki\\\\Downloads', 'C:\\\\Users\\\\yuuki\\\\anaconda3\\\\python37.zip', 'C:\\\\Users\\\\yuuki\\\\anaconda3\\\\DLLs', 'C:\\\\Users\\\\yuuki\\\\anaconda3\\\\lib', 'C:\\\\Users\\\\yuuki\\\\anaconda3', '', 'C:\\\\Users\\\\yuuki\\\\anaconda3\\\\lib\\\\site-packages', 'C:\\\\Users\\\\yuuki\\\\anaconda3\\\\lib\\\\site-packages\\\\win32', 'C:\\\\Users\\\\yuuki\\\\anaconda3\\\\lib\\\\site-packages\\\\win32\\\\lib', 'C:\\\\Users\\\\yuuki\\\\anaconda3\\\\lib\\\\site-packages\\\\Pythonwin', 'C:\\\\Users\\\\yuuki\\\\anaconda3\\\\lib\\\\site-packages\\\\IPython\\\\extensions', 'C:\\\\Users\\\\yuuki\\\\.ipython']\n"
     ]
    }
   ],
   "source": [
    "import sys\n",
    "print(sys.version)\n",
    "print('*' * 20)\n",
    "print(sys.path)"
   ]
  },
  {
   "cell_type": "code",
   "execution_count": 10,
   "metadata": {},
   "outputs": [
    {
     "name": "stdout",
     "output_type": "stream",
     "text": [
      "7.38905609893065\n",
      "7.3890560989306495\n",
      "3.141592653589793\n",
      "0.49999999999999994\n",
      "4.605170185988092\n",
      "2.0\n",
      "6.643856189774724\n",
      "4.0\n"
     ]
    }
   ],
   "source": [
    "import math\n",
    "print(math.exp(2))\n",
    "print(math.e ** 2)\n",
    "print(math.pi)\n",
    "print(math.sin(math.pi / 6))\n",
    "print(math.log(100))\n",
    "print(math.log10(100))\n",
    "print(math.log2(100))\n",
    "print(math.log(81) / math.log(3))"
   ]
  },
  {
   "cell_type": "markdown",
   "metadata": {},
   "source": [
    "# Useful bound functions"
   ]
  },
  {
   "cell_type": "code",
   "execution_count": 11,
   "metadata": {},
   "outputs": [
    {
     "name": "stdout",
     "output_type": "stream",
     "text": [
      "THE SEA WAS WET AS WET COULD BE, THE SANDS WERE DRY AS DRY.\n",
      "the sea was wet as wet could be, the sands were dry as dry.\n"
     ]
    }
   ],
   "source": [
    "string = 'The sea was wet as wet could be, the sands were dry as dry.'\n",
    "\n",
    "print(string.upper())\n",
    "print(string.lower())"
   ]
  },
  {
   "cell_type": "code",
   "execution_count": 12,
   "metadata": {},
   "outputs": [
    {
     "name": "stdout",
     "output_type": "stream",
     "text": [
      "33\n",
      "33\n",
      "-1\n"
     ]
    },
    {
     "ename": "ValueError",
     "evalue": "substring not found",
     "output_type": "error",
     "traceback": [
      "\u001b[1;31m---------------------------------------------------------------------------\u001b[0m",
      "\u001b[1;31mValueError\u001b[0m                                Traceback (most recent call last)",
      "\u001b[1;32m<ipython-input-12-e1f4967802ce>\u001b[0m in \u001b[0;36m<module>\u001b[1;34m\u001b[0m\n\u001b[0;32m      3\u001b[0m \u001b[1;33m\u001b[0m\u001b[0m\n\u001b[0;32m      4\u001b[0m \u001b[0mprint\u001b[0m\u001b[1;33m(\u001b[0m\u001b[0mstring\u001b[0m\u001b[1;33m.\u001b[0m\u001b[0mfind\u001b[0m\u001b[1;33m(\u001b[0m\u001b[1;34m'seas'\u001b[0m\u001b[1;33m)\u001b[0m\u001b[1;33m)\u001b[0m\u001b[1;33m\u001b[0m\u001b[1;33m\u001b[0m\u001b[0m\n\u001b[1;32m----> 5\u001b[1;33m \u001b[0mprint\u001b[0m\u001b[1;33m(\u001b[0m\u001b[0mstring\u001b[0m\u001b[1;33m.\u001b[0m\u001b[0mindex\u001b[0m\u001b[1;33m(\u001b[0m\u001b[1;34m'seas'\u001b[0m\u001b[1;33m)\u001b[0m\u001b[1;33m)\u001b[0m\u001b[1;33m\u001b[0m\u001b[1;33m\u001b[0m\u001b[0m\n\u001b[0m",
      "\u001b[1;31mValueError\u001b[0m: substring not found"
     ]
    }
   ],
   "source": [
    "print(string.find('the'))\n",
    "print(string.index('the'))\n",
    "\n",
    "print(string.find('seas'))\n",
    "print(string.index('seas'))"
   ]
  },
  {
   "cell_type": "code",
   "execution_count": 13,
   "metadata": {},
   "outputs": [
    {
     "name": "stdout",
     "output_type": "stream",
     "text": [
      "True\n",
      "False\n",
      "False\n"
     ]
    }
   ],
   "source": [
    "print(string.startswith('The sea'))\n",
    "print(string.startswith('The seas'))\n",
    "print(string.endswith('dry'))"
   ]
  },
  {
   "cell_type": "code",
   "execution_count": 14,
   "metadata": {},
   "outputs": [
    {
     "name": "stdout",
     "output_type": "stream",
     "text": [
      "The sea wmore than wet more than wet could be, the sands were dry more than dry.\n",
      "The sea was wet more than wet could be, the sands were dry more than dry.\n"
     ]
    }
   ],
   "source": [
    "print(string.replace('as', 'more than'))\n",
    "print(string.replace(' as ', ' more than '))"
   ]
  },
  {
   "cell_type": "code",
   "execution_count": 15,
   "metadata": {},
   "outputs": [
    {
     "name": "stdout",
     "output_type": "stream",
     "text": [
      "['The', 'sea', 'was', 'wet', 'as', 'wet', 'could', 'be,', 'the', 'sands', 'were', 'dry', 'as', 'dry.']\n",
      "['The', 'sea', 'was', 'wet', 'as', 'wet', 'could', 'be,', 'the', 'sands', 'were', 'dry', 'as', 'dry.']\n",
      "['The sea was wet', 'wet could be, the sands were dry', 'dry.']\n"
     ]
    }
   ],
   "source": [
    "print(string.split(' '))\n",
    "print(string.split())\n",
    "print(string.split(' as '))"
   ]
  },
  {
   "cell_type": "code",
   "execution_count": null,
   "metadata": {},
   "outputs": [],
   "source": [
    "long_string = \\\n",
    "'''The sea was wet as wet could be,\n",
    "The sands were dry as dry.\n",
    "You could not see a cloud, because\n",
    "No cloud was in the sky:\n",
    "No birds were flying overhead--\n",
    "There were no birds to fly.'''\n",
    "\n",
    "print(long_string.splitlines())\n",
    "print(long_string.split('\\n'))"
   ]
  },
  {
   "cell_type": "code",
   "execution_count": null,
   "metadata": {},
   "outputs": [],
   "source": [
    "print('123456'.isdigit()) # True\n",
    "print('A123456'.isdigit()) # False\n",
    "print('123 456'.isdigit()) # False\n",
    "\n",
    "print('AaBbCc'.isalpha()) # True\n",
    "print('A123456'.isalpha()) # False\n",
    "print('A '.isalpha()) # False\n",
    "\n",
    "print('123 abc !'.islower()) # True\n",
    "print('123 abc A'.islower()) # False\n",
    "\n",
    "print('123 ABC !'.isupper()) # True\n",
    "print('123 ABC a'.isupper()) # False\n",
    "\n",
    "print(' \\t\\r\\n'.isspace()) # True\n",
    "print(' \\t\\r\\n1'.isspace()) # False"
   ]
  },
  {
   "cell_type": "code",
   "execution_count": 16,
   "metadata": {},
   "outputs": [
    {
     "name": "stdout",
     "output_type": "stream",
     "text": [
      "GAAGACT\n",
      "GATGCGNNAGATGGGT\n"
     ]
    }
   ],
   "source": [
    "print('   GAAGACT   \\t\\r\\n'.strip())\n",
    "print('NNGATGCGNNAGATGGGTNNNN'.strip('N'))"
   ]
  },
  {
   "cell_type": "code",
   "execution_count": null,
   "metadata": {},
   "outputs": [],
   "source": [
    "codons = ['ATG', 'TGT', 'AGG', 'GAA', 'TGT', 'ATG', 'ATC', 'TAG']\n",
    "print(codons)\n",
    "\n",
    "print(codons.count('TGT'))\n",
    "\n",
    "print(codons.pop())\n",
    "print(codons)\n",
    "\n",
    "print(codons.pop(1))\n",
    "print(codons)"
   ]
  },
  {
   "cell_type": "code",
   "execution_count": null,
   "metadata": {},
   "outputs": [],
   "source": [
    "codons = ['ATG', 'TGT', 'AGG', 'GAA', 'TGT', 'ATG', 'ATC', 'TAG']\n",
    "aa_seq = 'MCRECMI*'\n",
    "\n",
    "codon_and_aa = list(zip(codons, aa_seq))\n",
    "print(codon_and_aa)\n",
    "\n",
    "codon_table = dict(codon_and_aa)\n",
    "print(codon_table)"
   ]
  },
  {
   "cell_type": "code",
   "execution_count": null,
   "metadata": {},
   "outputs": [],
   "source": [
    "print(list(zip(codons, aa_seq[:-1])))\n",
    "print(list(zip(range(5), ['zero', 'one', 'two', 'three', 'four'], [None, None, True, True, False])))"
   ]
  },
  {
   "cell_type": "code",
   "execution_count": null,
   "metadata": {},
   "outputs": [],
   "source": [
    "print(list(enumerate(codons)))"
   ]
  },
  {
   "cell_type": "code",
   "execution_count": null,
   "metadata": {},
   "outputs": [],
   "source": [
    "for i, codon in enumerate(codons):\n",
    "    print('Codon %d: %s' % (i, codon))"
   ]
  },
  {
   "cell_type": "code",
   "execution_count": null,
   "metadata": {},
   "outputs": [],
   "source": [
    "for i, codon_and_aa in enumerate(zip(codons, aa_seq)):\n",
    "    codon, aa = codon_and_aa\n",
    "    print('Codon %d: %s (%s)' % (i, codon, aa))"
   ]
  },
  {
   "cell_type": "code",
   "execution_count": null,
   "metadata": {},
   "outputs": [],
   "source": [
    "a, (b, c) = [1, [2, 3]]\n",
    "print('a = %d, b = %d, c = %d' % (a, b, c))"
   ]
  },
  {
   "cell_type": "code",
   "execution_count": null,
   "metadata": {},
   "outputs": [],
   "source": [
    "for i, (codon, aa) in enumerate(zip(codons, aa_seq)):\n",
    "    print('Codon %d: %s (%s)' % (i, codon, aa))"
   ]
  },
  {
   "cell_type": "markdown",
   "metadata": {},
   "source": [
    "# Sorting"
   ]
  },
  {
   "cell_type": "code",
   "execution_count": null,
   "metadata": {},
   "outputs": [],
   "source": [
    "values = [1.0, 3.0, -1.2, 5.61, 2.11, 0.002, -2]\n",
    "print(sorted(values))\n",
    "print(sorted(values, reverse = True))"
   ]
  },
  {
   "cell_type": "code",
   "execution_count": null,
   "metadata": {},
   "outputs": [],
   "source": [
    "print(values)\n",
    "values.sort()\n",
    "print(values)"
   ]
  },
  {
   "cell_type": "code",
   "execution_count": null,
   "metadata": {},
   "outputs": [],
   "source": [
    "print(sorted(values, key = abs))\n",
    "print(sorted(values, key = abs, reverse = True))"
   ]
  },
  {
   "cell_type": "code",
   "execution_count": null,
   "metadata": {},
   "outputs": [],
   "source": [
    "tuples = [(1, 2), (-1, 3), (0, 2), (5, 0), (3, 4), (0, -1)]\n",
    "print(sorted(tuples))"
   ]
  },
  {
   "cell_type": "code",
   "execution_count": null,
   "metadata": {},
   "outputs": [],
   "source": [
    "def get_value(pair):\n",
    "    return pair[1]\n",
    "    \n",
    "print(sorted(tuples, key = get_value))"
   ]
  },
  {
   "cell_type": "code",
   "execution_count": null,
   "metadata": {},
   "outputs": [],
   "source": [
    "animals = ['dog', 'cat', 'mouse', 'elephant']\n",
    "print(sorted(animals))\n",
    "print(sorted(animals, key = len))"
   ]
  },
  {
   "cell_type": "markdown",
   "metadata": {},
   "source": [
    "# Files"
   ]
  },
  {
   "cell_type": "code",
   "execution_count": null,
   "metadata": {},
   "outputs": [],
   "source": [
    "f = open(r'c://downloads/BRCA1.txt', 'r')\n",
    "print(f)\n",
    "print('*' * 20)\n",
    "\n",
    "content = f.read()\n",
    "print(content)"
   ]
  },
  {
   "cell_type": "code",
   "execution_count": null,
   "metadata": {},
   "outputs": [],
   "source": [
    "print(f.read())"
   ]
  },
  {
   "cell_type": "code",
   "execution_count": null,
   "metadata": {},
   "outputs": [],
   "source": [
    "# Never forget to close a file!\n",
    "f.close()"
   ]
  },
  {
   "cell_type": "code",
   "execution_count": null,
   "metadata": {},
   "outputs": [],
   "source": [
    "# Parsing is a common programming routine\n",
    "\n",
    "meta = {}\n",
    "exons = []\n",
    "\n",
    "for line in content.splitlines():\n",
    "    \n",
    "    key, value = line.split('\\t')\n",
    "    \n",
    "    if key == 'exon':\n",
    "        start, end = value.split('..')\n",
    "        exons.append((int(start), int(end)))\n",
    "    else:\n",
    "        meta[key] = value\n",
    "        \n",
    "        \n",
    "# Print the parsed data to see we got it right\n",
    "\n",
    "for key, value in meta.items():\n",
    "    print('%s: %s' % (key, value))\n",
    "\n",
    "print('*' * 20)\n",
    "print('Exons:')\n",
    "print(exons)"
   ]
  },
  {
   "cell_type": "code",
   "execution_count": null,
   "metadata": {},
   "outputs": [],
   "source": [
    "exon_lengths = []\n",
    "\n",
    "for start, end in exons:\n",
    "    exon_lengths += [end - start + 1]\n",
    "    \n",
    "print('Exons: %d' % len(exons))\n",
    "print('Min exon length: %d' % min(exon_lengths))\n",
    "print('Max exon length: %d' % max(exon_lengths))\n",
    "print('Average exon length: %.2f' % (sum(exon_lengths) / len(exons)))"
   ]
  },
  {
   "cell_type": "code",
   "execution_count": null,
   "metadata": {},
   "outputs": [],
   "source": [
    "f = open(r'c://downloads/exon_lengths.txt', 'w')\n",
    "f.write(str(exon_lengths)[1:-1])\n",
    "f.close()"
   ]
  },
  {
   "cell_type": "markdown",
   "metadata": {},
   "source": [
    "# More useful modules"
   ]
  },
  {
   "cell_type": "code",
   "execution_count": null,
   "metadata": {},
   "outputs": [],
   "source": [
    "import os\n",
    "\n",
    "print(os.path.join(r'C://temp/dir/', 'something/file.txt'))\n",
    "print(os.listdir(r'C://'))"
   ]
  },
  {
   "cell_type": "code",
   "execution_count": null,
   "metadata": {},
   "outputs": [],
   "source": [
    "os.system('calc')"
   ]
  },
  {
   "cell_type": "code",
   "execution_count": null,
   "metadata": {},
   "outputs": [],
   "source": [
    "from collections import Counter, defaultdict"
   ]
  },
  {
   "cell_type": "code",
   "execution_count": null,
   "metadata": {},
   "outputs": [],
   "source": [
    "aa_seq = 'MQAEQTRCAAARGSAEMESLWHAAPGDEEIPLHPPPTPGAMSLESDSSLDTLAEKIECDLMDLLGDMGPPCDIDEEEDQLFAEALPPLYS'\n",
    "aa_count = Counter()\n",
    "\n",
    "print(aa_count)\n",
    "\n",
    "for aa in aa_seq:\n",
    "    aa_count[aa] += 1\n",
    "    \n",
    "print(aa_count)"
   ]
  },
  {
   "cell_type": "code",
   "execution_count": null,
   "metadata": {},
   "outputs": [],
   "source": [
    "print(Counter(aa_seq))"
   ]
  },
  {
   "cell_type": "code",
   "execution_count": null,
   "metadata": {},
   "outputs": [],
   "source": [
    "aa_count['A'] += 1\n",
    "print(aa_count)\n",
    "\n",
    "aa_count['A'] += 3\n",
    "print(aa_count)"
   ]
  },
  {
   "cell_type": "code",
   "execution_count": null,
   "metadata": {},
   "outputs": [],
   "source": [
    "print(aa_count['W'])\n",
    "print(aa_count['*']) # Doesn't exist in the counter."
   ]
  },
  {
   "cell_type": "code",
   "execution_count": null,
   "metadata": {},
   "outputs": [],
   "source": [
    "for aa, count in aa_count.most_common()[:5]:\n",
    "    print('%s: %d' % (aa, count))"
   ]
  },
  {
   "cell_type": "code",
   "execution_count": null,
   "metadata": {},
   "outputs": [],
   "source": [
    "aa_count = Counter(aa_seq)\n",
    "print(aa_count)\n",
    "aa_count.update('AALLL')\n",
    "print(aa_count)"
   ]
  },
  {
   "cell_type": "code",
   "execution_count": null,
   "metadata": {},
   "outputs": [],
   "source": [
    "print(dict(aa_count))"
   ]
  },
  {
   "cell_type": "code",
   "execution_count": null,
   "metadata": {},
   "outputs": [],
   "source": [
    "print(Counter('the sea was wet as wet could be the sands were dry as dry'.split()))"
   ]
  },
  {
   "cell_type": "code",
   "execution_count": null,
   "metadata": {},
   "outputs": [],
   "source": [
    "aa_positions = defaultdict(list)\n",
    "\n",
    "for i, aa in enumerate(aa_seq):\n",
    "    aa_positions[aa].append(i)\n",
    "    \n",
    "print(aa_positions)\n",
    "print('*' * 20)\n",
    "print(aa_positions['Z'])"
   ]
  },
  {
   "cell_type": "code",
   "execution_count": null,
   "metadata": {},
   "outputs": [],
   "source": [
    "print(dict(aa_positions))"
   ]
  },
  {
   "cell_type": "code",
   "execution_count": null,
   "metadata": {},
   "outputs": [],
   "source": [
    "def create_empty_counter():\n",
    "    return Counter()\n",
    "\n",
    "next_aa_counter = defaultdict(create_empty_counter)\n",
    "\n",
    "for i, aa in enumerate(aa_seq[:-1]):\n",
    "    next_aa = aa_seq[i + 1]\n",
    "    next_aa_counter[aa][next_aa] += 1\n",
    "\n",
    "print(next_aa_counter)\n",
    "print('*' * 20)\n",
    "print(next_aa_counter['A'])\n",
    "print(next_aa_counter['A']['E'])\n",
    "print(next_aa_counter['Z']['E'])\n",
    "print('*' * 20)\n",
    "print(next_aa_counter)"
   ]
  }
 ],
 "metadata": {
  "kernelspec": {
   "display_name": "Python 3",
   "language": "python",
   "name": "python3"
  },
  "language_info": {
   "codemirror_mode": {
    "name": "ipython",
    "version": 3
   },
   "file_extension": ".py",
   "mimetype": "text/x-python",
   "name": "python",
   "nbconvert_exporter": "python",
   "pygments_lexer": "ipython3",
   "version": "3.7.6"
  }
 },
 "nbformat": 4,
 "nbformat_minor": 1
}
